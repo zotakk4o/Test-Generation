{
 "cells": [
  {
   "cell_type": "code",
   "execution_count": 161,
   "metadata": {},
   "outputs": [],
   "source": [
    "from time import time\n",
    "\n",
    "import spacy\n",
    "from nltk.corpus import wordnet as wn"
   ]
  },
  {
   "cell_type": "code",
   "execution_count": 162,
   "metadata": {},
   "outputs": [],
   "source": [
    "nlp = spacy.load('en_core_web_lg')"
   ]
  },
  {
   "cell_type": "code",
   "execution_count": 218,
   "metadata": {},
   "outputs": [],
   "source": [
    "def timeit(f):\n",
    "    def wrap(*args):\n",
    "        time1 = time()\n",
    "        ret = f(*args)\n",
    "        time2 = time()\n",
    "        print('{:s} took {:.3f}s'.format(f.__name__, (time2-time1)))\n",
    "\n",
    "        return ret\n",
    "    return wrap"
   ]
  },
  {
   "cell_type": "code",
   "execution_count": 219,
   "metadata": {},
   "outputs": [],
   "source": [
    "@timeit\n",
    "def get_options(word, n=4):\n",
    "    try:\n",
    "        initial_options = list(set(map(lambda x: x.lemma_names()[0], wn.synsets(word)[0].hypernyms()[0].hyponyms())))\n",
    "    except IndexError:\n",
    "        print(\"No matches.\")\n",
    "        return\n",
    "    else:\n",
    "        if len(initial_options) < n:\n",
    "            print(\"Not enough matches.\")\n",
    "            return\n",
    "    \n",
    "    similarities = list(map(lambda x: nlp(word).similarity(nlp(x)), initial_options))\n",
    "    \n",
    "    options = dict(zip(initial_options, similarities))\n",
    "    options = {option: similarity for option, similarity in options.items() if \n",
    "               similarity < 0.9 and wn.synsets(word)[0].pos() == wn.synsets(option)[0].pos()}\n",
    "    options = sorted(options, key= lambda k: options[k], reverse=True)[:n]\n",
    "    \n",
    "    if len()\n",
    "\n",
    "    return options\n",
    "    "
   ]
  },
  {
   "cell_type": "code",
   "execution_count": 233,
   "metadata": {},
   "outputs": [
    {
     "name": "stdout",
     "output_type": "stream",
     "text": [
      "get_options took 0.046s\n"
     ]
    },
    {
     "data": {
      "text/plain": [
       "['big_cat']"
      ]
     },
     "execution_count": 233,
     "metadata": {},
     "output_type": "execute_result"
    }
   ],
   "source": [
    "get_options(\"jo\", 2)"
   ]
  },
  {
   "cell_type": "code",
   "execution_count": 234,
   "metadata": {},
   "outputs": [
    {
     "data": {
      "text/plain": [
       "'noun.communication'"
      ]
     },
     "execution_count": 234,
     "metadata": {},
     "output_type": "execute_result"
    }
   ],
   "source": [
    "wn.synsets(\"donkey\")[0].lexname()"
   ]
  },
  {
   "cell_type": "code",
   "execution_count": null,
   "metadata": {},
   "outputs": [],
   "source": []
  }
 ],
 "metadata": {
  "kernelspec": {
   "display_name": "Python 3",
   "language": "python",
   "name": "python3"
  },
  "language_info": {
   "codemirror_mode": {
    "name": "ipython",
    "version": 3
   },
   "file_extension": ".py",
   "mimetype": "text/x-python",
   "name": "python",
   "nbconvert_exporter": "python",
   "pygments_lexer": "ipython3",
   "version": "3.6.7"
  }
 },
 "nbformat": 4,
 "nbformat_minor": 2
}
